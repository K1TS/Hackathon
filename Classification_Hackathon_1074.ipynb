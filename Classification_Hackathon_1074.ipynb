{
  "nbformat": 4,
  "nbformat_minor": 0,
  "metadata": {
    "colab": {
      "name": "Classification-Hackathon-1074.ipynb",
      "version": "0.3.2",
      "provenance": [],
      "toc_visible": true,
      "include_colab_link": true
    },
    "language_info": {
      "codemirror_mode": {
        "name": "ipython",
        "version": 3
      },
      "file_extension": ".py",
      "mimetype": "text/x-python",
      "name": "python",
      "nbconvert_exporter": "python",
      "pygments_lexer": "ipython3",
      "version": "3.6.8"
    },
    "kernelspec": {
      "display_name": "Python 3",
      "language": "python",
      "name": "python3"
    }
  },
  "cells": [
    {
      "cell_type": "markdown",
      "metadata": {
        "id": "view-in-github",
        "colab_type": "text"
      },
      "source": [
        "<a href=\"https://colab.research.google.com/github/K1TS/Hackathon/blob/master/Classification_Hackathon_1074.ipynb\" target=\"_parent\"><img src=\"https://colab.research.google.com/assets/colab-badge.svg\" alt=\"Open In Colab\"/></a>"
      ]
    },
    {
      "cell_type": "markdown",
      "metadata": {
        "id": "v1qhHAQieT0E",
        "colab_type": "text"
      },
      "source": [
        "# Classification Hackathon\n",
        "\n",
        "For the specifications for today's Hackathon use the slides linked below. Just note a couple things before you start:\n",
        "* Use your full name and ```_EDSA``` as your Zindi username.\n",
        "* The dataset for this challenge is very large and will take a long time to process. In order to use your time wisely, only use a small subset of the data to figure out how to solve this challenge, and once you're happy with that, train your model with the entire dataset.\n",
        "* This Zindi challenge is tough. This will be taken into account when the supervisors mark your work. Do not worry too much about your placement on the leaderboard. In the Regression Hackathon ```laura_the_explorer``` was in first place but is outside the top 100 in this challenge\n",
        "* To submit your Hackathon to Athena, zip your notebook and your submission csv file, and upload that here. Note that your report card will say you have 100% once you submit your file.\n",
        "* Please attach the *Honour code* (below) cell to your notebook. \n",
        "\n",
        "Further instructions found on these slides: https://docs.google.com/presentation/d/1AbVndI5aOd27Jm0E1qNoYzRtWiZ6-DE3BDE0djGxzIk/edit?usp=sharing\n",
        "\n",
        "** Good luck! **"
      ]
    },
    {
      "cell_type": "markdown",
      "metadata": {
        "id": "pEevSylyeT0G",
        "colab_type": "text"
      },
      "source": [
        "## Honour Code\n",
        "I Trevor Khomotso, Senyane, confirm - by submitting my - that the solutions in this notebook are a result of my own work and that I abide by the EDSA honour code (https://drive.google.com/file/d/1QDCjGZJ8-FmJE3bZdIQNwnJyQKPhHZBn/view?usp=sharing).\n",
        "\n",
        "Non-compliance with the honour code constitutes a material breach of contract."
      ]
    },
    {
      "cell_type": "markdown",
      "metadata": {
        "id": "ANe4zO3yKQsb",
        "colab_type": "text"
      },
      "source": [
        "## For us to solveThis Problem:\n",
        "- We first have to import Important Packages \n",
        "- Geather data\n",
        "- Do Explonatary Data Analysi\n",
        "-Deal with Dta Imbalance"
      ]
    },
    {
      "cell_type": "markdown",
      "metadata": {
        "id": "ttRus8x4KIdO",
        "colab_type": "text"
      },
      "source": [
        "# Importing Important Packages "
      ]
    },
    {
      "cell_type": "code",
      "metadata": {
        "id": "M2FcTtyKebJG",
        "colab_type": "code",
        "colab": {}
      },
      "source": [
        "# data analysis and data wrangling\n",
        "# data analysis and wrangling\n",
        "import pandas as pd\n",
        "import numpy as np\n",
        "import random as rnd\n",
        "from sklearn.preprocessing import StandardScaler\n",
        "from sklearn import preprocessing\n",
        "\n",
        "# visualization\n",
        "import seaborn as sns\n",
        "import matplotlib.pyplot as plt\n",
        "%matplotlib inline\n",
        "\n",
        "# machine learning\n",
        "from sklearn.linear_model import LogisticRegression,LogisticRegressionCV\n",
        "from sklearn.svm import SVC, LinearSVC\n",
        "from sklearn.ensemble import RandomForestClassifier,AdaBoostClassifier,GradientBoostingClassifier\n",
        "from sklearn.neighbors import KNeighborsClassifier\n",
        "from sklearn.naive_bayes import GaussianNB\n",
        "from sklearn.linear_model import Perceptron\n",
        "from sklearn.linear_model import SGDClassifier,RidgeClassifierCV\n",
        "from sklearn.tree import DecisionTreeClassifier\n",
        "from sklearn.model_selection import train_test_split\n",
        "from sklearn.utils import resample\n",
        "\n",
        "from scipy.stats import norm, skew "
      ],
      "execution_count": 0,
      "outputs": []
    },
    {
      "cell_type": "markdown",
      "metadata": {
        "id": "PJmWoWa7FiN-",
        "colab_type": "text"
      },
      "source": [
        "# Importing DataSets"
      ]
    },
    {
      "cell_type": "code",
      "metadata": {
        "id": "MQ7ZsJ8WgZNA",
        "colab_type": "code",
        "colab": {}
      },
      "source": [
        "train=pd.read_csv('/content/training.csv')\n",
        "test=pd.read_csv('/content/test (3).csv')\n",
        "sample=pd.read_csv('/content/sample_submission (1).csv')\n",
        "info=pd.read_csv('/content/Xente_Variable_Definitions.csv')"
      ],
      "execution_count": 0,
      "outputs": []
    },
    {
      "cell_type": "code",
      "metadata": {
        "id": "tnjjwHl2ik0V",
        "colab_type": "code",
        "outputId": "caac1e6b-de0a-45c5-b0a4-26cdd615dd4e",
        "colab": {
          "base_uri": "https://localhost:8080/",
          "height": 100
        }
      },
      "source": [
        "train.head(1)"
      ],
      "execution_count": 0,
      "outputs": [
        {
          "output_type": "execute_result",
          "data": {
            "text/html": [
              "<div>\n",
              "<style scoped>\n",
              "    .dataframe tbody tr th:only-of-type {\n",
              "        vertical-align: middle;\n",
              "    }\n",
              "\n",
              "    .dataframe tbody tr th {\n",
              "        vertical-align: top;\n",
              "    }\n",
              "\n",
              "    .dataframe thead th {\n",
              "        text-align: right;\n",
              "    }\n",
              "</style>\n",
              "<table border=\"1\" class=\"dataframe\">\n",
              "  <thead>\n",
              "    <tr style=\"text-align: right;\">\n",
              "      <th></th>\n",
              "      <th>TransactionId</th>\n",
              "      <th>BatchId</th>\n",
              "      <th>AccountId</th>\n",
              "      <th>SubscriptionId</th>\n",
              "      <th>CustomerId</th>\n",
              "      <th>CurrencyCode</th>\n",
              "      <th>CountryCode</th>\n",
              "      <th>ProviderId</th>\n",
              "      <th>ProductId</th>\n",
              "      <th>ProductCategory</th>\n",
              "      <th>ChannelId</th>\n",
              "      <th>Amount</th>\n",
              "      <th>Value</th>\n",
              "      <th>TransactionStartTime</th>\n",
              "      <th>PricingStrategy</th>\n",
              "      <th>FraudResult</th>\n",
              "    </tr>\n",
              "  </thead>\n",
              "  <tbody>\n",
              "    <tr>\n",
              "      <th>0</th>\n",
              "      <td>TransactionId_76871</td>\n",
              "      <td>BatchId_36123</td>\n",
              "      <td>AccountId_3957</td>\n",
              "      <td>SubscriptionId_887</td>\n",
              "      <td>CustomerId_4406</td>\n",
              "      <td>UGX</td>\n",
              "      <td>256</td>\n",
              "      <td>ProviderId_6</td>\n",
              "      <td>ProductId_10</td>\n",
              "      <td>airtime</td>\n",
              "      <td>ChannelId_3</td>\n",
              "      <td>1000.0</td>\n",
              "      <td>1000</td>\n",
              "      <td>2018-11-15T02:18:49Z</td>\n",
              "      <td>2</td>\n",
              "      <td>0</td>\n",
              "    </tr>\n",
              "  </tbody>\n",
              "</table>\n",
              "</div>"
            ],
            "text/plain": [
              "         TransactionId        BatchId  ... PricingStrategy FraudResult\n",
              "0  TransactionId_76871  BatchId_36123  ...               2           0\n",
              "\n",
              "[1 rows x 16 columns]"
            ]
          },
          "metadata": {
            "tags": []
          },
          "execution_count": 3
        }
      ]
    },
    {
      "cell_type": "code",
      "metadata": {
        "id": "fdH2-x1LLH-h",
        "colab_type": "code",
        "outputId": "6e5d14de-b76c-4252-b408-3a3f6be46961",
        "colab": {
          "base_uri": "https://localhost:8080/",
          "height": 100
        }
      },
      "source": [
        "test.head(1)"
      ],
      "execution_count": 0,
      "outputs": [
        {
          "output_type": "execute_result",
          "data": {
            "text/html": [
              "<div>\n",
              "<style scoped>\n",
              "    .dataframe tbody tr th:only-of-type {\n",
              "        vertical-align: middle;\n",
              "    }\n",
              "\n",
              "    .dataframe tbody tr th {\n",
              "        vertical-align: top;\n",
              "    }\n",
              "\n",
              "    .dataframe thead th {\n",
              "        text-align: right;\n",
              "    }\n",
              "</style>\n",
              "<table border=\"1\" class=\"dataframe\">\n",
              "  <thead>\n",
              "    <tr style=\"text-align: right;\">\n",
              "      <th></th>\n",
              "      <th>TransactionId</th>\n",
              "      <th>BatchId</th>\n",
              "      <th>AccountId</th>\n",
              "      <th>SubscriptionId</th>\n",
              "      <th>CustomerId</th>\n",
              "      <th>CurrencyCode</th>\n",
              "      <th>CountryCode</th>\n",
              "      <th>ProviderId</th>\n",
              "      <th>ProductId</th>\n",
              "      <th>ProductCategory</th>\n",
              "      <th>ChannelId</th>\n",
              "      <th>Amount</th>\n",
              "      <th>Value</th>\n",
              "      <th>TransactionStartTime</th>\n",
              "      <th>PricingStrategy</th>\n",
              "    </tr>\n",
              "  </thead>\n",
              "  <tbody>\n",
              "    <tr>\n",
              "      <th>0</th>\n",
              "      <td>TransactionId_50600</td>\n",
              "      <td>BatchId_35028</td>\n",
              "      <td>AccountId_2441</td>\n",
              "      <td>SubscriptionId_4426</td>\n",
              "      <td>CustomerId_2857</td>\n",
              "      <td>UGX</td>\n",
              "      <td>256</td>\n",
              "      <td>ProviderId_5</td>\n",
              "      <td>ProductId_3</td>\n",
              "      <td>airtime</td>\n",
              "      <td>ChannelId_3</td>\n",
              "      <td>1000.0</td>\n",
              "      <td>1000</td>\n",
              "      <td>2019-02-13T10:01:40Z</td>\n",
              "      <td>4</td>\n",
              "    </tr>\n",
              "  </tbody>\n",
              "</table>\n",
              "</div>"
            ],
            "text/plain": [
              "         TransactionId        BatchId  ...  TransactionStartTime PricingStrategy\n",
              "0  TransactionId_50600  BatchId_35028  ...  2019-02-13T10:01:40Z               4\n",
              "\n",
              "[1 rows x 15 columns]"
            ]
          },
          "metadata": {
            "tags": []
          },
          "execution_count": 4
        }
      ]
    },
    {
      "cell_type": "markdown",
      "metadata": {
        "id": "MneTazStkTes",
        "colab_type": "text"
      },
      "source": [
        "## Checking missing values "
      ]
    },
    {
      "cell_type": "code",
      "metadata": {
        "id": "-qrjhAlSkKQM",
        "colab_type": "code",
        "outputId": "d7dd0282-bb72-4664-e3c6-d2ac912889bc",
        "colab": {
          "base_uri": "https://localhost:8080/",
          "height": 51
        }
      },
      "source": [
        "print('train',train.isnull().sum().sum())\n",
        "print('test',test.isnull().sum().sum())\n"
      ],
      "execution_count": 0,
      "outputs": [
        {
          "output_type": "stream",
          "text": [
            "train 0\n",
            "test 0\n"
          ],
          "name": "stdout"
        }
      ]
    },
    {
      "cell_type": "markdown",
      "metadata": {
        "id": "P_c5nuDKLVaN",
        "colab_type": "text"
      },
      "source": [
        "There are no missing values  in this case"
      ]
    },
    {
      "cell_type": "markdown",
      "metadata": {
        "id": "YDKMMtFZj17f",
        "colab_type": "text"
      },
      "source": [
        "# Explonatary Data Analysis"
      ]
    },
    {
      "cell_type": "markdown",
      "metadata": {
        "id": "6Xqz1cmZLttV",
        "colab_type": "text"
      },
      "source": [
        "In The Explonatary Data Analysis we want to check relationships on different cattegoties to see which features relate with fraud "
      ]
    },
    {
      "cell_type": "code",
      "metadata": {
        "id": "MKCQD_nPiGp7",
        "colab_type": "code",
        "outputId": "49f99b88-bee4-4d5b-9fc3-ca79bff19821",
        "colab": {
          "base_uri": "https://localhost:8080/",
          "height": 1000
        }
      },
      "source": [
        "def boxen_plots(df):\n",
        "  scale=['ProductCategory','ProviderId','PricingStrategy']\n",
        "  \n",
        "  for i in scale:\n",
        "    plt.figure(figsize=(20,5))\n",
        "    plt.title(i+'  '+'Distribution')\n",
        "    sns.boxenplot(df[i], train['Value'], hue=train['FraudResult'])\n",
        "boxen_plots(train)"
      ],
      "execution_count": 0,
      "outputs": [
        {
          "output_type": "display_data",
          "data": {
            "image/png": "[encoded data removed]",
            "text/plain": [
              "<Figure size 1440x360 with 1 Axes>"
            ]
          },
          "metadata": {
            "tags": []
          }
        },
        {
          "output_type": "display_data",
          "data": {
            "image/png": "[encoded data removed]",
            "text/plain": [
              "<Figure size 1440x360 with 1 Axes>"
            ]
          },
          "metadata": {
            "tags": []
          }
        },
        {
          "output_type": "display_data",
          "data": {
            "image/png": "[encoded data removed]",
            "text/plain": [
              "<Figure size 1440x360 with 1 Axes>"
            ]
          },
          "metadata": {
            "tags": []
          }
        }
      ]
    },
    {
      "cell_type": "markdown",
      "metadata": {
        "id": "MtUXOeVvsakz",
        "colab_type": "text"
      },
      "source": [
        "# Data Balancing"
      ]
    },
    {
      "cell_type": "code",
      "metadata": {
        "id": "U4pvHNJXun4h",
        "colab_type": "code",
        "outputId": "3af13ce2-935f-40a8-9dcf-6bf30234b340",
        "colab": {
          "base_uri": "https://localhost:8080/",
          "height": 283
        }
      },
      "source": [
        "def fig_balance(df):\n",
        "  fig, ax = plt.subplots()\n",
        "  f = sns.countplot(df.FraudResult, palette='viridis')\n",
        "  f.set_xticklabels(['Not Fraud', 'Fraud'])\n",
        "  f.set_yticklabels([])\n",
        "fig_balance(train)  \n"
      ],
      "execution_count": 0,
      "outputs": [
        {
          "output_type": "display_data",
          "data": {
            "image/png": "[encoded data removed]",
            "text/plain": [
              "<Figure size 432x288 with 1 Axes>"
            ]
          },
          "metadata": {
            "tags": []
          }
        }
      ]
    },
    {
      "cell_type": "markdown",
      "metadata": {
        "id": "rkdIAHjowxJt",
        "colab_type": "text"
      },
      "source": [
        "There is a lot of Embalance in our Data"
      ]
    },
    {
      "cell_type": "markdown",
      "metadata": {
        "id": "-fCOcp88vPxc",
        "colab_type": "text"
      },
      "source": [
        "## Resampling Techniques\n"
      ]
    },
    {
      "cell_type": "markdown",
      "metadata": {
        "id": "AFbGSgGRvSl6",
        "colab_type": "text"
      },
      "source": [
        "Oversampling - Oversampling can be defined as adding more copies of the minority class"
      ]
    },
    {
      "cell_type": "code",
      "metadata": {
        "id": "S32ydN4Fvi0y",
        "colab_type": "code",
        "colab": {}
      },
      "source": [
        "# Separate input features and target\n",
        "y,X= train.FraudResult,train.drop('FraudResult', axis=1)\n",
        "\n",
        "#  testing and training sets\n",
        "X_train, X_test, y_train, y_test = train_test_split(X, y, test_size=0.20, random_state=42)"
      ],
      "execution_count": 0,
      "outputs": []
    },
    {
      "cell_type": "code",
      "metadata": {
        "id": "RgKysTtnl1NU",
        "colab_type": "code",
        "outputId": "c0d57a43-2fc2-4615-c88e-d6d73fa1be9f",
        "colab": {
          "base_uri": "https://localhost:8080/",
          "height": 68
        }
      },
      "source": [
        "not_fraud = train[train.FraudResult==0]\n",
        "fraud = train[train.FraudResult==1]\n",
        "\n",
        "# upsample minority\n",
        "fraud_upsampled = resample(fraud,\n",
        "                         replace=True, # sample with replacement\n",
        "                          n_samples=len(not_fraud), # match number in majority class\n",
        "                          random_state=27) # reproducible results\n",
        "\n",
        "# combine majority and upsampled minority\n",
        "upsampled = pd.concat([not_fraud, fraud_upsampled])\n",
        "\n",
        "# check new class counts\n",
        "upsampled.FraudResult.value_counts()\n"
      ],
      "execution_count": 0,
      "outputs": [
        {
          "output_type": "execute_result",
          "data": {
            "text/plain": [
              "1    95469\n",
              "0    95469\n",
              "Name: FraudResult, dtype: int64"
            ]
          },
          "metadata": {
            "tags": []
          },
          "execution_count": 9
        }
      ]
    },
    {
      "cell_type": "code",
      "metadata": {
        "id": "sxI-MHqgxDnj",
        "colab_type": "code",
        "outputId": "13ad0b9a-e6d3-498a-8a01-f4891b3dcf3f",
        "colab": {
          "base_uri": "https://localhost:8080/",
          "height": 300
        }
      },
      "source": [
        "upsampledfig, ax = plt.subplots()\n",
        "f = sns.countplot(upsampled.FraudResult, palette='viridis')\n",
        "f.set_xticklabels(['Not Fraud', 'Fraud'])\n",
        "f.set_yticklabels([])"
      ],
      "execution_count": 0,
      "outputs": [
        {
          "output_type": "execute_result",
          "data": {
            "text/plain": [
              "[]"
            ]
          },
          "metadata": {
            "tags": []
          },
          "execution_count": 10
        },
        {
          "output_type": "display_data",
          "data": {
            "image/png": "[encoded data removed]",
            "text/plain": [
              "<Figure size 432x288 with 1 Axes>"
            ]
          },
          "metadata": {
            "tags": []
          }
        }
      ]
    },
    {
      "cell_type": "code",
      "metadata": {
        "id": "gxsxUTDYCvjS",
        "colab_type": "code",
        "outputId": "6b2d93db-02ee-4041-c1e6-bc9b578270dc",
        "colab": {
          "base_uri": "https://localhost:8080/",
          "height": 173
        }
      },
      "source": [
        "combine = pd.concat([upsampled,test])"
      ],
      "execution_count": 0,
      "outputs": [
        {
          "output_type": "stream",
          "text": [
            "/usr/local/lib/python3.6/dist-packages/ipykernel_launcher.py:1: FutureWarning: Sorting because non-concatenation axis is not aligned. A future version\n",
            "of pandas will change to not sort by default.\n",
            "\n",
            "To accept the future behavior, pass 'sort=False'.\n",
            "\n",
            "To retain the current behavior and silence the warning, pass 'sort=True'.\n",
            "\n",
            "  \"\"\"Entry point for launching an IPython kernel.\n"
          ],
          "name": "stderr"
        }
      ]
    },
    {
      "cell_type": "code",
      "metadata": {
        "id": "AZv-sqY6xXsk",
        "colab_type": "code",
        "colab": {}
      },
      "source": [
        "# Our Data Set Is Now Balanced\n",
        "\n",
        "combine=combine.drop(['CurrencyCode','CountryCode','TransactionId','BatchId','AccountId','SubscriptionId','CustomerId','TransactionStartTime'],axis=1)"
      ],
      "execution_count": 0,
      "outputs": []
    },
    {
      "cell_type": "markdown",
      "metadata": {
        "id": "0mk4UKeextEF",
        "colab_type": "text"
      },
      "source": [
        "Our Data is now balanced let us try some Feature Engineering"
      ]
    },
    {
      "cell_type": "markdown",
      "metadata": {
        "id": "h8PbPoylO9FH",
        "colab_type": "text"
      },
      "source": [
        "# Data Processing For Model Fitting"
      ]
    },
    {
      "cell_type": "code",
      "metadata": {
        "id": "4vW7r40Ez871",
        "colab_type": "code",
        "colab": {}
      },
      "source": [
        "data=pd.get_dummies(combine)\n",
        "X_train=data.iloc[:len(upsampled),:].drop('FraudResult',axis=1)\n",
        "y_train=data.iloc[:len(upsampled),:][['FraudResult']]\n",
        "X_test=data.iloc[len(upsampled):,:].drop('FraudResult',axis=1)"
      ],
      "execution_count": 0,
      "outputs": []
    },
    {
      "cell_type": "markdown",
      "metadata": {
        "id": "VAQXYthe2Nmh",
        "colab_type": "text"
      },
      "source": [
        "Now  we are going to train our data and predict using different methods"
      ]
    },
    {
      "cell_type": "code",
      "metadata": {
        "id": "5G1U5AH1qp2t",
        "colab_type": "code",
        "colab": {}
      },
      "source": [
        "## Logistic Regression"
      ],
      "execution_count": 0,
      "outputs": []
    },
    {
      "cell_type": "code",
      "metadata": {
        "id": "RUktWaNL2cq1",
        "colab_type": "code",
        "outputId": "87dc35a7-b602-4992-a54b-0dc4bb3329bf",
        "colab": {
          "base_uri": "https://localhost:8080/",
          "height": 88
        }
      },
      "source": [
        "\n",
        "logreg = LogisticRegression(C=100,max_iter=100,intercept_scaling=100,solver='liblinear')\n",
        "logreg.fit(X_train, y_train)\n",
        "Y_pred = logreg.predict(X_test)\n",
        "acc_log = round(logreg.score(X_train, y_train) * 100, 2)\n",
        "acc_log"
      ],
      "execution_count": 0,
      "outputs": [
        {
          "output_type": "stream",
          "text": [
            "/usr/local/lib/python3.6/dist-packages/sklearn/utils/validation.py:724: DataConversionWarning: A column-vector y was passed when a 1d array was expected. Please change the shape of y to (n_samples, ), for example using ravel().\n",
            "  y = column_or_1d(y, warn=True)\n"
          ],
          "name": "stderr"
        },
        {
          "output_type": "execute_result",
          "data": {
            "text/plain": [
              "98.3"
            ]
          },
          "metadata": {
            "tags": []
          },
          "execution_count": 16
        }
      ]
    },
    {
      "cell_type": "markdown",
      "metadata": {
        "id": "61jaK3r5jWtq",
        "colab_type": "text"
      },
      "source": [
        "## We now Try Our Model Without Upsumpling and Down Sumpling"
      ]
    },
    {
      "cell_type": "code",
      "metadata": {
        "id": "0gxUZEEirRoW",
        "colab_type": "code",
        "outputId": "89493e86-6a5e-4f4c-9488-9573547716cb",
        "colab": {
          "base_uri": "https://localhost:8080/",
          "height": 173
        }
      },
      "source": [
        "combine = pd.concat([train,test])"
      ],
      "execution_count": 0,
      "outputs": [
        {
          "output_type": "stream",
          "text": [
            "/usr/local/lib/python3.6/dist-packages/ipykernel_launcher.py:1: FutureWarning: Sorting because non-concatenation axis is not aligned. A future version\n",
            "of pandas will change to not sort by default.\n",
            "\n",
            "To accept the future behavior, pass 'sort=False'.\n",
            "\n",
            "To retain the current behavior and silence the warning, pass 'sort=True'.\n",
            "\n",
            "  \"\"\"Entry point for launching an IPython kernel.\n"
          ],
          "name": "stderr"
        }
      ]
    },
    {
      "cell_type": "code",
      "metadata": {
        "id": "J1epja3Lront",
        "colab_type": "code",
        "colab": {}
      },
      "source": [
        "combine=combine.drop(['CurrencyCode','CountryCode','TransactionId','BatchId','AccountId','SubscriptionId','CustomerId','TransactionStartTime','Amount'],axis=1)"
      ],
      "execution_count": 0,
      "outputs": []
    },
    {
      "cell_type": "code",
      "metadata": {
        "id": "Ry3RwAT6rUCn",
        "colab_type": "code",
        "colab": {}
      },
      "source": [
        "data=pd.get_dummies(combine)\n",
        "X_train=data.iloc[:len(train),:].drop('FraudResult',axis=1)\n",
        "y_train=data.iloc[:len(train),:][['FraudResult']]\n",
        "X_test=data.iloc[len(train):,:].drop('FraudResult',axis=1)"
      ],
      "execution_count": 0,
      "outputs": []
    },
    {
      "cell_type": "markdown",
      "metadata": {
        "id": "uAnZqbvauvdy",
        "colab_type": "text"
      },
      "source": [
        "##  Logistic Regression"
      ]
    },
    {
      "cell_type": "code",
      "metadata": {
        "id": "2nSAf0_YvnJ7",
        "colab_type": "code",
        "outputId": "b19148bc-e5dd-480d-bbec-7821a3f44a32",
        "colab": {
          "base_uri": "https://localhost:8080/",
          "height": 88
        }
      },
      "source": [
        "\n",
        "logreg = LogisticRegression(C=100,max_iter=100,intercept_scaling=100,solver='liblinear')\n",
        "logreg.fit(X_train, y_train)\n",
        "Y_pred = logreg.predict(X_test)\n",
        "acc_log = round(logreg.score(X_train, y_train) * 100, 2)\n",
        "acc_log"
      ],
      "execution_count": 0,
      "outputs": [
        {
          "output_type": "stream",
          "text": [
            "/usr/local/lib/python3.6/dist-packages/sklearn/utils/validation.py:724: DataConversionWarning: A column-vector y was passed when a 1d array was expected. Please change the shape of y to (n_samples, ), for example using ravel().\n",
            "  y = column_or_1d(y, warn=True)\n"
          ],
          "name": "stderr"
        },
        {
          "output_type": "execute_result",
          "data": {
            "text/plain": [
              "99.83"
            ]
          },
          "metadata": {
            "tags": []
          },
          "execution_count": 20
        }
      ]
    },
    {
      "cell_type": "markdown",
      "metadata": {
        "id": "R5chex6UwS7d",
        "colab_type": "text"
      },
      "source": [
        "Our Model works better without data resampling"
      ]
    },
    {
      "cell_type": "markdown",
      "metadata": {
        "id": "2EFC2ERtwKYQ",
        "colab_type": "text"
      },
      "source": [
        "##  Support Vector Mechine"
      ]
    },
    {
      "cell_type": "code",
      "metadata": {
        "id": "4VZQ1y7_jacU",
        "colab_type": "code",
        "outputId": "d7592c22-e2c0-46dc-fe73-287d53f79bf8",
        "colab": {
          "base_uri": "https://localhost:8080/",
          "height": 122
        }
      },
      "source": [
        "# Support Vector Machines\n",
        "\n",
        "svc = SVC(C=100000,degree=45,shrinking=False,probability=True,tol=0.2)\n",
        "svc.fit(X_train, y_train)\n",
        "Y_pred = svc.predict(X_test)\n",
        "acc_svc = round(svc.score(X_train, y_train) * 100, 2)\n",
        "acc_svc"
      ],
      "execution_count": 0,
      "outputs": [
        {
          "output_type": "stream",
          "text": [
            "/usr/local/lib/python3.6/dist-packages/sklearn/utils/validation.py:724: DataConversionWarning: A column-vector y was passed when a 1d array was expected. Please change the shape of y to (n_samples, ), for example using ravel().\n",
            "  y = column_or_1d(y, warn=True)\n",
            "/usr/local/lib/python3.6/dist-packages/sklearn/svm/base.py:193: FutureWarning: The default value of gamma will change from 'auto' to 'scale' in version 0.22 to account better for unscaled features. Set gamma explicitly to 'auto' or 'scale' to avoid this warning.\n",
            "  \"avoid this warning.\", FutureWarning)\n"
          ],
          "name": "stderr"
        },
        {
          "output_type": "execute_result",
          "data": {
            "text/plain": [
              "99.97"
            ]
          },
          "metadata": {
            "tags": []
          },
          "execution_count": 23
        }
      ]
    },
    {
      "cell_type": "markdown",
      "metadata": {
        "id": "ZsrkCdRjE1jE",
        "colab_type": "text"
      },
      "source": [
        "### Sumbitting the csv file"
      ]
    },
    {
      "cell_type": "code",
      "metadata": {
        "id": "SG7xQ0NSExXg",
        "colab_type": "code",
        "colab": {}
      },
      "source": [
        "sample['FraudResult']=xgb\n",
        "sample.to_csv('first_pred11.csv',index=False)"
      ],
      "execution_count": 0,
      "outputs": []
    },
    {
      "cell_type": "code",
      "metadata": {
        "id": "inkTGbMZxowN",
        "colab_type": "code",
        "colab": {}
      },
      "source": [
        ""
      ],
      "execution_count": 0,
      "outputs": []
    }
  ]
}